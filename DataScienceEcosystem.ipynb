{
 "cells": [
  {
   "cell_type": "markdown",
   "id": "6b3bdf0d-2f93-48e0-8a72-e533320946cc",
   "metadata": {},
   "source": [
    "# Data Science Tools and Ecosystem"
   ]
  },
  {
   "cell_type": "markdown",
   "id": "7961c5b3-2e4b-44b4-a5c4-99777e7f44c1",
   "metadata": {},
   "source": [
    "In this notebook, Data Science Tools and Ecosystem are summarized."
   ]
  },
  {
   "cell_type": "markdown",
   "id": "f9d6814d-bdda-4a9d-b41c-c6e4ae90b830",
   "metadata": {},
   "source": [
    "Some of the popular languages that Data Scientists use are:\n",
    "\n",
    "1. **Python:** Widely regarded as one of the most versatile programming languages, Python is extensively used in data science. It has rich libraries and frameworks, such as NumPy, Pandas, and scikit-learn, making it a go-to language for data analysis, machine learning, and more.\n",
    "\n",
    "2. **R:** Specifically designed for statistics and data analysis, R is a powerful language commonly used by statisticians and data scientists. It provides a wide range of packages for statistical modeling, visualization, and machine learning.\n",
    "\n",
    "3. **SQL:** Structured Query Language is essential for working with relational databases. Data scientists often use SQL to extract, manipulate, and analyze data stored in databases. It's particularly crucial when dealing with large datasets.\n",
    "\n",
    "4. **Julia:** Known for its high-performance capabilities, Julia is gaining popularity in the data science community. It's designed to be fast and efficient, making it suitable for tasks like numerical analysis and machine learning.\n",
    "\n",
    "5. **Scala:** Scala is a versatile language that runs on the Java Virtual Machine (JVM). It is often used in big data processing frameworks like Apache Spark, making it valuable for large-scale data processing tasks.\n"
   ]
  },
  {
   "cell_type": "markdown",
   "id": "245deeb8-4d10-47cf-8dc2-712793bde16d",
   "metadata": {},
   "source": [
    "Some of the commonly used libraries by Data Scientists include:\n",
    "\n",
    "1. **NumPy:** A fundamental package for scientific computing with Python. It provides support for large, multi-dimensional arrays and matrices, along with mathematical functions to operate on these elements.\n",
    "\n",
    "2. **Pandas:** A powerful and easy-to-use data manipulation and analysis library for Python. It provides data structures like DataFrame for efficient data manipulation with integrated indexing.\n",
    "\n",
    "3. **Matplotlib:** A 2D plotting library for Python that produces publication-quality figures in various formats. It can be used to generate plots, histograms, power spectra, bar charts, error charts, and scatterplots, among others.\n",
    "\n",
    "4. **Scikit-learn:** A machine learning library for Python. It provides simple and efficient tools for data mining and data analysis, built on NumPy, SciPy, and Matplotlib.\n",
    "\n",
    "5. **TensorFlow or PyTorch:** These are deep learning libraries widely used for building and training neural network models. They provide a flexible and efficient platform for numerical computation and machine learning.\n",
    "\n",
    " "
   ]
  },
  {
   "cell_type": "markdown",
   "id": "bcea0340-1629-493f-a374-8f6597635b74",
   "metadata": {},
   "source": [
    "| Data Science Tools      |\n",
    "|-------------------------|\n",
    "| Jupyter Notebooks       |\n",
    "| RStudio                 |\n",
    "| VS Code with Python     |"
   ]
  },
  {
   "cell_type": "markdown",
   "id": "a357390d-3d17-4977-a625-d0088df38050",
   "metadata": {},
   "source": [
    "### Examples of Evaluating Arithmetic Expressions in Python\n",
    "\n",
    "Below are a few examples of evaluating arithmetic expressions in Python:\n"
   ]
  },
  {
   "cell_type": "code",
   "execution_count": 5,
   "id": "fbf67385-e9db-42fb-a8cf-2369f43eec2e",
   "metadata": {},
   "outputs": [
    {
     "name": "stdout",
     "output_type": "stream",
     "text": [
      "6\n"
     ]
    }
   ],
   "source": [
    "result = 10 - 4\n",
    "print(result) "
   ]
  },
  {
   "cell_type": "code",
   "execution_count": 6,
   "id": "5dbd7a07-263e-4d2c-a62b-4081f88f2e5d",
   "metadata": {},
   "outputs": [
    {
     "name": "stdout",
     "output_type": "stream",
     "text": [
      "14\n"
     ]
    }
   ],
   "source": [
    "result = 10 + 4\n",
    "print(result)  \n"
   ]
  },
  {
   "cell_type": "code",
   "execution_count": 7,
   "id": "91dc61bc-cbe4-4260-9233-c1035d092de9",
   "metadata": {},
   "outputs": [
    {
     "name": "stdout",
     "output_type": "stream",
     "text": [
      "2.5\n"
     ]
    }
   ],
   "source": [
    "result = 10 / 4\n",
    "print(result) \n"
   ]
  },
  {
   "cell_type": "code",
   "execution_count": 8,
   "id": "80cc2f05-4c51-42c1-9131-551c430be30a",
   "metadata": {},
   "outputs": [
    {
     "name": "stdout",
     "output_type": "stream",
     "text": [
      "40\n"
     ]
    }
   ],
   "source": [
    "result = 10 * 4\n",
    "print(result) \n"
   ]
  },
  {
   "cell_type": "code",
   "execution_count": 9,
   "id": "a49f9c61-d5a8-4b93-9a71-55991e0215ad",
   "metadata": {},
   "outputs": [
    {
     "name": "stdout",
     "output_type": "stream",
     "text": [
      "17\n"
     ]
    }
   ],
   "source": [
    "# This is a simple arithmetic expression to multiply then add integers.\n",
    "result = (3 * 4) + 5\n",
    "print(result)\n"
   ]
  },
  {
   "cell_type": "code",
   "execution_count": 10,
   "id": "1821e7a8-63c7-4e45-b4e8-304805c1e63d",
   "metadata": {},
   "outputs": [
    {
     "name": "stdout",
     "output_type": "stream",
     "text": [
      "3.3333333333333335\n"
     ]
    }
   ],
   "source": [
    "# This will convert 200 minutes to hours by dividing by 60.\n",
    "minutes = 200\n",
    "hours = minutes / 60\n",
    "print(hours)"
   ]
  },
  {
   "cell_type": "markdown",
   "id": "31cc79d6-34ac-4eee-91fe-d28de427dbb4",
   "metadata": {},
   "source": [
    "**Objectives:**\n",
    "\n",
    "- Understand and list some of the commonly used languages in Data Science.\n",
    "- Explore popular libraries that are frequently employed by Data Scientists.\n",
    "- Gain familiarity with tools used in Data Science development environments.\n",
    "- Learn to evaluate simple arithmetic expressions in Python.\n",
    "- Apply basic mathematical operations for data manipulation in Python.\n"
   ]
  },
  {
   "cell_type": "markdown",
   "id": "058a4a16-44e9-4760-82d9-7c52bab76066",
   "metadata": {},
   "source": [
    "## Author\n",
    "\n",
    "Dinara Issayeva"
   ]
  }
 ],
 "metadata": {
  "kernelspec": {
   "display_name": "Python 3 (ipykernel)",
   "language": "python",
   "name": "python3"
  },
  "language_info": {
   "codemirror_mode": {
    "name": "ipython",
    "version": 3
   },
   "file_extension": ".py",
   "mimetype": "text/x-python",
   "name": "python",
   "nbconvert_exporter": "python",
   "pygments_lexer": "ipython3",
   "version": "3.10.12"
  }
 },
 "nbformat": 4,
 "nbformat_minor": 5
}
